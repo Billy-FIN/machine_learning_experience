{
 "cells": [
  {
   "cell_type": "code",
   "execution_count": 42,
   "id": "dfe532e6",
   "metadata": {},
   "outputs": [],
   "source": [
    "import torch.nn as nn\n",
    "import torch\n",
    "import numpy as np\n",
    "import torch.optim as optim\n",
    "torch.set_printoptions(edgeitems=2, precision=2, linewidth=75)"
   ]
  },
  {
   "cell_type": "code",
   "execution_count": 43,
   "id": "223b03b0",
   "metadata": {},
   "outputs": [
    {
     "data": {
      "text/plain": [
       "(4898, 12)"
      ]
     },
     "execution_count": 43,
     "metadata": {},
     "output_type": "execute_result"
    }
   ],
   "source": [
    "import csv\n",
    "wine_path = \"../data/p1ch4/tabular-wine/winequality-white.csv\"\n",
    "wineq_numpy = np.loadtxt(wine_path, dtype=np.float32, delimiter=\";\",\n",
    "                         skiprows=1)\n",
    "wineq_numpy.shape"
   ]
  },
  {
   "cell_type": "code",
   "execution_count": 44,
   "id": "3379b8a1",
   "metadata": {},
   "outputs": [
    {
     "data": {
      "text/plain": [
       "(torch.Size([4898, 12]),\n",
       " tensor([[ 7.00,  0.27,  ...,  8.80,  6.00],\n",
       "         [ 6.30,  0.30,  ...,  9.50,  6.00],\n",
       "         ...,\n",
       "         [ 5.50,  0.29,  ..., 12.80,  7.00],\n",
       "         [ 6.00,  0.21,  ..., 11.80,  6.00]]))"
      ]
     },
     "execution_count": 44,
     "metadata": {},
     "output_type": "execute_result"
    }
   ],
   "source": [
    "wineq = torch.from_numpy(wineq_numpy)\n",
    "\n",
    "wineq.shape, wineq"
   ]
  },
  {
   "cell_type": "code",
   "execution_count": 45,
   "id": "8d21fcb6",
   "metadata": {},
   "outputs": [
    {
     "data": {
      "text/plain": [
       "(torch.Size([4898, 11]), torch.Size([4898, 1]))"
      ]
     },
     "execution_count": 45,
     "metadata": {},
     "output_type": "execute_result"
    }
   ],
   "source": [
    "x_raw = wineq[:, :-1]\n",
    "y_raw = wineq[:, -1:]\n",
    "\n",
    "x_raw.shape, y_raw.shape"
   ]
  },
  {
   "cell_type": "code",
   "execution_count": 56,
   "id": "90779fd5",
   "metadata": {},
   "outputs": [
    {
     "data": {
      "text/plain": [
       "(torch.Size([979, 11]), torch.Size([979, 1]))"
      ]
     },
     "execution_count": 56,
     "metadata": {},
     "output_type": "execute_result"
    }
   ],
   "source": [
    "num_samples = wineq.shape[0]\n",
    "num_val = int(0.2 * num_samples)\n",
    "\n",
    "shuffled_samples = torch.randperm(num_samples)\n",
    "\n",
    "train_indices = shuffled_samples[:-num_val]\n",
    "val_indices = shuffled_samples[-num_val:]\n",
    "\n",
    "x_val = x_raw[val_indices]\n",
    "y_val = y_raw[val_indices]\n",
    "x_train = x_raw[train_indices]\n",
    "y_train = y_raw[train_indices]\n",
    "\n",
    "x_val.shape, y_val.shape"
   ]
  },
  {
   "cell_type": "code",
   "execution_count": 54,
   "id": "8bba805e",
   "metadata": {},
   "outputs": [],
   "source": [
    "def training_loop(n_epochs, optimizer, model, loss_fn, x_train, x_val,\n",
    "                  y_train, y_val):\n",
    "    for epoch in range(1, n_epochs + 1):\n",
    "        pred_train = model(x_train)\n",
    "        loss_train = loss_fn(pred_train, y_train)\n",
    "\n",
    "        pred_val = model(x_val)\n",
    "        loss_val = loss_fn(pred_val, y_val)\n",
    "        \n",
    "        optimizer.zero_grad()\n",
    "        loss_train.backward() \n",
    "        optimizer.step()\n",
    "\n",
    "        if epoch == 1 or epoch % 200 == 0:\n",
    "            print(f\"Epoch {epoch}, Training loss {loss_train.item():.4f},\"\n",
    "                  f\" Validation loss {loss_val.item():.4f}\")\n"
   ]
  },
  {
   "cell_type": "code",
   "execution_count": 49,
   "id": "f42b6530",
   "metadata": {},
   "outputs": [],
   "source": [
    "seq_model = nn.Sequential(\n",
    "            nn.Linear(x_raw.shape[1], 24),\n",
    "            nn.Tanh(),\n",
    "            nn.Linear(24, 1)) "
   ]
  },
  {
   "cell_type": "code",
   "execution_count": 58,
   "id": "d812156a",
   "metadata": {},
   "outputs": [
    {
     "name": "stdout",
     "output_type": "stream",
     "text": [
      "Epoch 1, Training loss 0.4780, Validation loss 0.5626\n",
      "Epoch 200, Training loss 0.4780, Validation loss 0.5626\n",
      "Epoch 400, Training loss 0.4780, Validation loss 0.5627\n",
      "Epoch 600, Training loss 0.4779, Validation loss 0.5628\n",
      "Epoch 800, Training loss 0.4779, Validation loss 0.5629\n",
      "Epoch 1000, Training loss 0.4778, Validation loss 0.5630\n",
      "Epoch 1200, Training loss 0.4777, Validation loss 0.5631\n",
      "Epoch 1400, Training loss 0.4777, Validation loss 0.5633\n",
      "Epoch 1600, Training loss 0.4776, Validation loss 0.5634\n",
      "Epoch 1800, Training loss 0.4775, Validation loss 0.5636\n",
      "Epoch 2000, Training loss 0.4774, Validation loss 0.5637\n",
      "Epoch 2200, Training loss 0.4773, Validation loss 0.5638\n",
      "Epoch 2400, Training loss 0.4772, Validation loss 0.5641\n",
      "Epoch 2600, Training loss 0.4772, Validation loss 0.5637\n",
      "Epoch 2800, Training loss 0.4782, Validation loss 0.5638\n",
      "Epoch 3000, Training loss 0.4769, Validation loss 0.5645\n"
     ]
    }
   ],
   "source": [
    "optimizer = optim.Adam(seq_model.parameters(), lr=1e-3) # <1>\n",
    "\n",
    "training_loop(\n",
    "    n_epochs = 3000, \n",
    "    optimizer = optimizer,\n",
    "    model = seq_model,\n",
    "    loss_fn = nn.MSELoss(),\n",
    "    x_train = x_train,\n",
    "    x_val = x_val, \n",
    "    y_train = y_train,\n",
    "    y_val = y_val)"
   ]
  },
  {
   "cell_type": "code",
   "execution_count": null,
   "id": "cad332b4",
   "metadata": {},
   "outputs": [],
   "source": []
  }
 ],
 "metadata": {
  "kernelspec": {
   "display_name": "Python [conda env:pytorch_env]",
   "language": "python",
   "name": "conda-env-pytorch_env-py"
  },
  "language_info": {
   "codemirror_mode": {
    "name": "ipython",
    "version": 3
   },
   "file_extension": ".py",
   "mimetype": "text/x-python",
   "name": "python",
   "nbconvert_exporter": "python",
   "pygments_lexer": "ipython3",
   "version": "3.11.3"
  }
 },
 "nbformat": 4,
 "nbformat_minor": 5
}
