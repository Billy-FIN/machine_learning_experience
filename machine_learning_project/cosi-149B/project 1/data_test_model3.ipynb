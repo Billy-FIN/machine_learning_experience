{
 "cells": [
  {
   "cell_type": "code",
   "execution_count": 3,
   "id": "ca7a5804",
   "metadata": {},
   "outputs": [],
   "source": [
    "import joblib\n",
    "import numpy as np\n",
    "import pandas as pd\n",
    "\n",
    "loaded_model = joblib.load('model3.pkl')"
   ]
  },
  {
   "cell_type": "code",
   "execution_count": 6,
   "id": "c2a280ed",
   "metadata": {},
   "outputs": [
    {
     "data": {
      "text/plain": [
       "(array([[-0.91472143, -0.27314269, -0.95047407, ...,  0.        ,\n",
       "          0.        ,  0.        ],\n",
       "        [ 0.2117834 , -1.03960682,  0.02875831, ...,  0.        ,\n",
       "          0.        ,  0.        ],\n",
       "        [-0.78955423,  0.49332143, -0.82807002, ...,  0.        ,\n",
       "          0.        ,  0.        ],\n",
       "        ...,\n",
       "        [-2.29156067, -1.80607094, -2.78653477, ...,  0.        ,\n",
       "          0.        ,  0.        ],\n",
       "        [-1.03988863, -1.03960682,  0.02875831, ...,  0.        ,\n",
       "          0.        ,  0.        ],\n",
       "        [ 0.46211781, -1.03960682,  0.39597045, ...,  0.        ,\n",
       "          0.        ,  0.        ]]),\n",
       " (2026, 37),\n",
       " (2026, 14),\n",
       " (2026, 23))"
      ]
     },
     "execution_count": 6,
     "metadata": {},
     "output_type": "execute_result"
    }
   ],
   "source": [
    "# pre-process the data: converting categorical data to numerical data\n",
    "data_path = \"./data_test.csv\"\n",
    "data_pd = pd.read_csv(data_path)\n",
    "categorical_data = data_pd.select_dtypes(include=[\"object\"])\n",
    "categorical_data_onehot = pd.get_dummies(categorical_data).to_numpy()\n",
    "numerical_data = data_pd.select_dtypes(exclude=['object']).to_numpy()\n",
    "\n",
    "# normalization\n",
    "numerical_data = numerical_data[:,:14]\n",
    "mean = numerical_data.mean(axis=0)\n",
    "std = numerical_data.std(axis=0)\n",
    "numerical_data = (numerical_data - mean) / std\n",
    "\n",
    "# merge the training data\n",
    "merged_data = np.concatenate((numerical_data, categorical_data_onehot), axis=1)\n",
    "merged_data, merged_data.shape,numerical_data.shape,categorical_data_onehot.shape"
   ]
  },
  {
   "cell_type": "code",
   "execution_count": 10,
   "id": "a8cb1c60",
   "metadata": {},
   "outputs": [],
   "source": [
    "predictions = np.int32(loaded_model.predict(merged_data))"
   ]
  },
  {
   "cell_type": "code",
   "execution_count": 12,
   "id": "da47707a",
   "metadata": {},
   "outputs": [],
   "source": [
    "import csv\n",
    "\n",
    "# Assuming 'predictions' is a list or array containing your model's predictions\n",
    "\n",
    "# Specify the file name for the output CSV file\n",
    "output_file = \"test_output_model3.csv\"\n",
    "\n",
    "# Open the file in write mode with newline='' to avoid extra line breaks\n",
    "with open(output_file, \"w\", newline=\"\") as csvfile:\n",
    "    # Create a CSV writer object\n",
    "    csv_writer = csv.writer(csvfile)\n",
    "\n",
    "    # Write each prediction as a separate row without headers\n",
    "    for prediction in predictions:\n",
    "        csv_writer.writerow([prediction])\n",
    "\n",
    "\n",
    "\n",
    "\n"
   ]
  },
  {
   "cell_type": "code",
   "execution_count": null,
   "id": "191f1cee",
   "metadata": {},
   "outputs": [],
   "source": []
  }
 ],
 "metadata": {
  "kernelspec": {
   "display_name": "Python [conda env:sklearn-env]",
   "language": "python",
   "name": "conda-env-sklearn-env-py"
  },
  "language_info": {
   "codemirror_mode": {
    "name": "ipython",
    "version": 3
   },
   "file_extension": ".py",
   "mimetype": "text/x-python",
   "name": "python",
   "nbconvert_exporter": "python",
   "pygments_lexer": "ipython3",
   "version": "3.11.5"
  }
 },
 "nbformat": 4,
 "nbformat_minor": 5
}
