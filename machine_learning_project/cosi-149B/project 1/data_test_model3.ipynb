{
 "cells": [
  {
   "cell_type": "code",
   "execution_count": 1,
   "id": "ca7a5804",
   "metadata": {},
   "outputs": [],
   "source": [
    "# uses my model3 to predict data_test.csv\n",
    "\n",
    "import joblib\n",
    "import numpy as np\n",
    "import pandas as pd\n",
    "\n",
    "loaded_model = joblib.load('model3.pkl')"
   ]
  },
  {
   "cell_type": "code",
   "execution_count": 2,
   "id": "c2a280ed",
   "metadata": {},
   "outputs": [
    {
     "data": {
      "text/plain": [
       "(array([[-0.91472143, -0.27314269, -0.95047407, ...,  0.        ,\n",
       "          0.        ,  0.        ],\n",
       "        [ 0.2117834 , -1.03960682,  0.02875831, ...,  0.        ,\n",
       "          0.        ,  0.        ],\n",
       "        [-0.78955423,  0.49332143, -0.82807002, ...,  0.        ,\n",
       "          0.        ,  0.        ],\n",
       "        ...,\n",
       "        [-2.29156067, -1.80607094, -2.78653477, ...,  0.        ,\n",
       "          0.        ,  0.        ],\n",
       "        [-1.03988863, -1.03960682,  0.02875831, ...,  0.        ,\n",
       "          0.        ,  0.        ],\n",
       "        [ 0.46211781, -1.03960682,  0.39597045, ...,  0.        ,\n",
       "          0.        ,  0.        ]]),\n",
       " (2026, 37),\n",
       " (2026, 14),\n",
       " (2026, 23))"
      ]
     },
     "execution_count": 2,
     "metadata": {},
     "output_type": "execute_result"
    }
   ],
   "source": [
    "# pre-process the data: converting categorical data to numerical data\n",
    "data_path = \"./data_test.csv\"\n",
    "data_pd = pd.read_csv(data_path)\n",
    "categorical_data = data_pd.select_dtypes(include=[\"object\"])\n",
    "categorical_data_onehot = pd.get_dummies(categorical_data).to_numpy()\n",
    "numerical_data = data_pd.select_dtypes(exclude=['object']).to_numpy()\n",
    "\n",
    "# normalization\n",
    "numerical_data = numerical_data[:,:14]\n",
    "mean = numerical_data.mean(axis=0)\n",
    "std = numerical_data.std(axis=0)\n",
    "numerical_data = (numerical_data - mean) / std\n",
    "\n",
    "# merge the training data\n",
    "merged_data = np.concatenate((numerical_data, categorical_data_onehot), axis=1)\n",
    "merged_data, merged_data.shape,numerical_data.shape,categorical_data_onehot.shape"
   ]
  },
  {
   "cell_type": "code",
   "execution_count": 4,
   "id": "a8cb1c60",
   "metadata": {},
   "outputs": [
    {
     "data": {
      "text/plain": [
       "1"
      ]
     },
     "execution_count": 4,
     "metadata": {},
     "output_type": "execute_result"
    }
   ],
   "source": [
    "predictions = np.int32(loaded_model.predict(merged_data))\n",
    "\n",
    "predictions[0]"
   ]
  },
  {
   "cell_type": "code",
   "execution_count": 5,
   "id": "da47707a",
   "metadata": {},
   "outputs": [],
   "source": [
    "import csv\n",
    "\n",
    "output_file = \"test_output_model3.csv\"\n",
    "\n",
    "with open(output_file, \"w\", newline=\"\") as csvfile:\n",
    "    \n",
    "    csv_writer = csv.writer(csvfile)\n",
    "\n",
    "    for prediction in predictions:\n",
    "        if(prediction == 0):         # the output is [0,1], but the label is [1,2]\n",
    "            csv_writer.writerow('2')\n",
    "        else:\n",
    "            csv_writer.writerow('1')"
   ]
  },
  {
   "cell_type": "code",
   "execution_count": null,
   "id": "191f1cee",
   "metadata": {},
   "outputs": [],
   "source": []
  }
 ],
 "metadata": {
  "kernelspec": {
   "display_name": "Python [conda env:sklearn-env]",
   "language": "python",
   "name": "conda-env-sklearn-env-py"
  },
  "language_info": {
   "codemirror_mode": {
    "name": "ipython",
    "version": 3
   },
   "file_extension": ".py",
   "mimetype": "text/x-python",
   "name": "python",
   "nbconvert_exporter": "python",
   "pygments_lexer": "ipython3",
   "version": "3.11.5"
  }
 },
 "nbformat": 4,
 "nbformat_minor": 5
}
