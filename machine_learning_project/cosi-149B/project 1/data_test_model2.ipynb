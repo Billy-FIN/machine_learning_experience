{
 "cells": [
  {
   "cell_type": "code",
   "execution_count": 49,
   "id": "457bf617",
   "metadata": {},
   "outputs": [
    {
     "data": {
      "text/plain": [
       "Net(\n",
       "  (layer_1): Linear(in_features=37, out_features=2048, bias=True)\n",
       "  (layer_2): Linear(in_features=2048, out_features=1024, bias=True)\n",
       "  (layer_3): Linear(in_features=1024, out_features=512, bias=True)\n",
       "  (layer_4): Linear(in_features=512, out_features=128, bias=True)\n",
       "  (layer_5): Linear(in_features=128, out_features=1, bias=True)\n",
       ")"
      ]
     },
     "execution_count": 49,
     "metadata": {},
     "output_type": "execute_result"
    }
   ],
   "source": [
    "import torch\n",
    "import torch.nn as nn\n",
    "import torch.optim as optim\n",
    "import numpy as np\n",
    "import pandas as pd\n",
    "\n",
    "class Net(nn.Module):\n",
    "    def __init__(self):\n",
    "        super().__init__()\n",
    "        self.layer_1 = nn.Linear(in_features=37, out_features=2048)\n",
    "        self.layer_2 = nn.Linear(in_features=2048, out_features=1024) \n",
    "        self.layer_3 = nn.Linear(in_features=1024, out_features=512)\n",
    "        self.layer_4 = nn.Linear(in_features=512, out_features=128)\n",
    "        self.layer_5 = nn.Linear(in_features=128, out_features=1)\n",
    "    \n",
    "    def forward(self, x):\n",
    "        out = torch.relu(self.layer_1(x))\n",
    "        out = torch.relu(self.layer_2(out))\n",
    "        out = torch.relu(self.layer_3(out))\n",
    "        out = torch.relu(self.layer_4(out))\n",
    "        out = torch.sigmoid(self.layer_5(out))\n",
    "        return out\n",
    "\n",
    "loaded_model = Net().to(\"cuda\")\n",
    "loaded_model.load_state_dict(torch.load('model2.pt',map_location='cuda'))\n",
    "loaded_model"
   ]
  },
  {
   "cell_type": "code",
   "execution_count": 50,
   "id": "32660e16",
   "metadata": {},
   "outputs": [
    {
     "data": {
      "text/plain": [
       "(array([[-0.91449547, -0.2730752 , -0.9502393 , ...,  0.        ,\n",
       "          0.        ,  0.        ],\n",
       "        [ 0.21173128, -1.0393502 ,  0.02875139, ...,  0.        ,\n",
       "          0.        ,  0.        ],\n",
       "        [-0.7893592 ,  0.49319977, -0.8278655 , ...,  0.        ,\n",
       "          0.        ,  0.        ],\n",
       "        ...,\n",
       "        [-2.290995  , -1.8056251 , -2.785847  , ...,  0.        ,\n",
       "          0.        ,  0.        ],\n",
       "        [-1.0396318 , -1.0393502 ,  0.02875139, ...,  0.        ,\n",
       "          0.        ,  0.        ],\n",
       "        [ 0.4620039 , -1.0393502 ,  0.3958729 , ...,  0.        ,\n",
       "          0.        ,  0.        ]], dtype=float32),\n",
       " (2026, 37),\n",
       " torch.Size([2026, 14]),\n",
       " (2026, 23))"
      ]
     },
     "execution_count": 50,
     "metadata": {},
     "output_type": "execute_result"
    }
   ],
   "source": [
    "# pre-process the data: converting categorical data to numerical data\n",
    "data_path = \"./data_test.csv\"\n",
    "data_pd = pd.read_csv(data_path)\n",
    "categorical_data = data_pd.select_dtypes(include=[\"object\"])\n",
    "categorical_data_onehot = pd.get_dummies(categorical_data).to_numpy()\n",
    "numerical_data = data_pd.select_dtypes(exclude=['object']).to_numpy()\n",
    "numerical_data = torch.from_numpy(numerical_data).to(torch.float32)\n",
    "\n",
    "# normalization\n",
    "numerical_data = numerical_data[:,:14]\n",
    "mean = numerical_data.mean(dim=0)\n",
    "std = numerical_data.std(dim=0)\n",
    "numerical_data = (numerical_data - mean) / std\n",
    "\n",
    "# merge the training data\n",
    "merged_data = np.concatenate((numerical_data, categorical_data_onehot), axis=1)\n",
    "merged_data, merged_data.shape,numerical_data.shape,categorical_data_onehot.shape"
   ]
  },
  {
   "cell_type": "code",
   "execution_count": 51,
   "id": "a1565a2a",
   "metadata": {},
   "outputs": [
    {
     "data": {
      "text/plain": [
       "tensor([[-0.9145, -0.2731, -0.9502,  ...,  0.0000,  0.0000,  0.0000],\n",
       "        [ 0.2117, -1.0394,  0.0288,  ...,  0.0000,  0.0000,  0.0000],\n",
       "        [-0.7894,  0.4932, -0.8279,  ...,  0.0000,  0.0000,  0.0000],\n",
       "        ...,\n",
       "        [-2.2910, -1.8056, -2.7858,  ...,  0.0000,  0.0000,  0.0000],\n",
       "        [-1.0396, -1.0394,  0.0288,  ...,  0.0000,  0.0000,  0.0000],\n",
       "        [ 0.4620, -1.0394,  0.3959,  ...,  0.0000,  0.0000,  0.0000]],\n",
       "       device='cuda:0')"
      ]
     },
     "execution_count": 51,
     "metadata": {},
     "output_type": "execute_result"
    }
   ],
   "source": [
    "data = torch.from_numpy(merged_data).to(torch.float32).to('cuda')    # to tensor\n",
    "data"
   ]
  },
  {
   "cell_type": "code",
   "execution_count": 57,
   "id": "cbf2cfd8",
   "metadata": {},
   "outputs": [],
   "source": [
    "loaded_model.eval()\n",
    "\n",
    "with torch.no_grad():  # Disable gradient tracking for inference\n",
    "    predictions = loaded_model(data)\n",
    "    \n",
    "threshold = 0.8\n",
    "predictions = (predictions >= threshold).int()\n",
    "\n",
    "predictions = predictions.tolist()"
   ]
  },
  {
   "cell_type": "code",
   "execution_count": 59,
   "id": "d25e2ae3",
   "metadata": {},
   "outputs": [],
   "source": [
    "import csv\n",
    "\n",
    "# Assuming 'predictions' is a list or array containing your model's predictions\n",
    "\n",
    "# Specify the file name for the output CSV file\n",
    "output_file = \"test_output_model2.csv\"\n",
    "\n",
    "# Open the file in write mode with newline='' to avoid extra line breaks\n",
    "with open(output_file, \"w\", newline=\"\") as csvfile:\n",
    "    # Create a CSV writer object\n",
    "    csv_writer = csv.writer(csvfile)\n",
    "\n",
    "    # Write each prediction as a separate row without headers\n",
    "    for prediction in predictions:\n",
    "        csv_writer.writerow(prediction)\n",
    "\n",
    "\n",
    "\n",
    "\n"
   ]
  }
 ],
 "metadata": {
  "kernelspec": {
   "display_name": "Python 3 (ipykernel)",
   "language": "python",
   "name": "python3"
  },
  "language_info": {
   "codemirror_mode": {
    "name": "ipython",
    "version": 3
   },
   "file_extension": ".py",
   "mimetype": "text/x-python",
   "name": "python",
   "nbconvert_exporter": "python",
   "pygments_lexer": "ipython3",
   "version": "3.11.3"
  }
 },
 "nbformat": 4,
 "nbformat_minor": 5
}
