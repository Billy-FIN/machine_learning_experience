{
 "cells": [
  {
   "cell_type": "code",
   "execution_count": null,
   "id": "2b0cf8d4",
   "metadata": {},
   "outputs": [],
   "source": [
    "#1"
   ]
  },
  {
   "cell_type": "code",
   "execution_count": 1,
   "id": "2a93982d",
   "metadata": {},
   "outputs": [],
   "source": [
    "import numpy as np\n",
    "import torch\n",
    "torch.set_printoptions(edgeitems=2, threshold=50)"
   ]
  },
  {
   "cell_type": "code",
   "execution_count": 3,
   "id": "6112a2bc",
   "metadata": {},
   "outputs": [
    {
     "data": {
      "text/plain": [
       "(torch.Size([979, 2532, 3]), torch.Size([1080, 1920, 3]))"
      ]
     },
     "execution_count": 3,
     "metadata": {},
     "output_type": "execute_result"
    }
   ],
   "source": [
    "import imageio.v3\n",
    "path = \"C:/Users/billy/Downloads/\"\n",
    "imred_arr = imageio.v3.imread(path + \"game.jpg\")\n",
    "imgreen_arr = imageio.v3.imread(path + \"R-C.jpg\")\n",
    "imred = torch.from_numpy(imred_arr)\n",
    "imgreen = torch.from_numpy(imgreen_arr)\n",
    "imred.shape, imgreen.shape"
   ]
  },
  {
   "cell_type": "code",
   "execution_count": 4,
   "id": "f0939360",
   "metadata": {},
   "outputs": [
    {
     "data": {
      "text/plain": [
       "(torch.Size([3, 979, 2532]), torch.Size([3, 1080, 1920]))"
      ]
     },
     "execution_count": 4,
     "metadata": {},
     "output_type": "execute_result"
    }
   ],
   "source": [
    "imred = imred.permute(2,0,1)\n",
    "imgreen = imgreen.permute(2,0,1)\n",
    "imred.shape, imgreen.shape"
   ]
  },
  {
   "cell_type": "code",
   "execution_count": 17,
   "id": "82e5c1e4",
   "metadata": {},
   "outputs": [
    {
     "data": {
      "text/plain": [
       "(tensor(66.8631), tensor(109.3721))"
      ]
     },
     "execution_count": 17,
     "metadata": {},
     "output_type": "execute_result"
    }
   ],
   "source": [
    "imred = imred.float()\n",
    "imgreen = imgreen.float()\n",
    "imred.mean(), imgreen.mean()"
   ]
  },
  {
   "cell_type": "code",
   "execution_count": 27,
   "id": "6143e393",
   "metadata": {},
   "outputs": [
    {
     "data": {
      "text/plain": [
       "(tensor(73.8276), tensor(64.9507), tensor(61.8111))"
      ]
     },
     "execution_count": 27,
     "metadata": {},
     "output_type": "execute_result"
    }
   ],
   "source": [
    "red_channel_avg0 = imred[0].mean()\n",
    "red_channel_avg1 = imred[1].mean()\n",
    "red_channel_avg2 = imred[2].mean()\n",
    "red_channel_avg0, red_channel_avg1, red_channel_avg2"
   ]
  },
  {
   "cell_type": "code",
   "execution_count": 28,
   "id": "222eadbd",
   "metadata": {},
   "outputs": [
    {
     "data": {
      "text/plain": [
       "(tensor(92.3475), tensor(159.8922), tensor(75.8768))"
      ]
     },
     "execution_count": 28,
     "metadata": {},
     "output_type": "execute_result"
    }
   ],
   "source": [
    "green_channel_avg0 = imgreen[0].mean()\n",
    "green_channel_avg1 = imgreen[1].mean()\n",
    "green_channel_avg2 = imgreen[2].mean()\n",
    "green_channel_avg0, green_channel_avg1, green_channel_avg2"
   ]
  },
  {
   "cell_type": "code",
   "execution_count": null,
   "id": "8f904a6a",
   "metadata": {},
   "outputs": [],
   "source": []
  },
  {
   "cell_type": "code",
   "execution_count": null,
   "id": "4af72558",
   "metadata": {},
   "outputs": [],
   "source": [
    "#2"
   ]
  },
  {
   "cell_type": "code",
   "execution_count": 56,
   "id": "5e6c4cb5",
   "metadata": {},
   "outputs": [],
   "source": [
    "import numpy as np\n",
    "import torch\n",
    "import re\n",
    "torch.set_printoptions(edgeitems=2, threshold=50)"
   ]
  },
  {
   "cell_type": "code",
   "execution_count": 60,
   "id": "ce218113",
   "metadata": {},
   "outputs": [],
   "source": [
    "with open('../p2ch11/model.py', encoding='utf8') as f:\n",
    "    text = f.read()"
   ]
  },
  {
   "cell_type": "code",
   "execution_count": 61,
   "id": "870c18bf",
   "metadata": {},
   "outputs": [
    {
     "data": {
      "text/plain": [
       "'        self.block3 = LunaBlock(conv_channels * 2, conv_channels * 4)'"
      ]
     },
     "execution_count": 61,
     "metadata": {},
     "output_type": "execute_result"
    }
   ],
   "source": [
    "lines = text.split('\\n')\n",
    "line = lines[20]\n",
    "line"
   ]
  },
  {
   "cell_type": "code",
   "execution_count": 65,
   "id": "56f8f9ec",
   "metadata": {},
   "outputs": [
    {
     "data": {
      "text/plain": [
       "['self', 'block', 'lunablock', 'conv_channels', 'conv_channels']"
      ]
     },
     "execution_count": 65,
     "metadata": {},
     "output_type": "execute_result"
    }
   ],
   "source": [
    "def clean_words(input_str):\n",
    "    punctuation = '.,;:\"!?”“_-'\n",
    "    special_str = re.compile(r\"[^a-zA-Z_]+\")\n",
    "    input_str = special_str.sub(' ', input_str)\n",
    "    word_list = input_str.lower().replace(\"\\n\",' ').split()\n",
    "    word_list = [word.strip(punctuation) for word in word_list]\n",
    "    return word_list\n",
    "words_in_line = clean_words(line)\n",
    "words_in_line"
   ]
  },
  {
   "cell_type": "code",
   "execution_count": 70,
   "id": "28e28b1b",
   "metadata": {},
   "outputs": [
    {
     "data": {
      "text/plain": [
       "(82,\n",
       " {'a': 0,\n",
       "  'also': 1,\n",
       "  'as': 2,\n",
       "  'batchnorm': 3,\n",
       "  'bias': 4,\n",
       "  'block': 5,\n",
       "  'block_out': 6,\n",
       "  'bn_output': 7,\n",
       "  'bound': 8,\n",
       "  'calculate_fan_in_and_fan_out': 9,\n",
       "  'class': 10,\n",
       "  'com': 11,\n",
       "  'conv': 12,\n",
       "  'conv_channels': 13,\n",
       "  'conv_flat': 14,\n",
       "  'convtranspose': 15,\n",
       "  'd': 16,\n",
       "  'data': 17,\n",
       "  'debug': 18,\n",
       "  'def': 19,\n",
       "  'dim': 20,\n",
       "  'fan_in': 21,\n",
       "  'fan_out': 22,\n",
       "  'for': 23,\n",
       "  'forward': 24,\n",
       "  'from': 25,\n",
       "  'getlogger': 26,\n",
       "  'github': 27,\n",
       "  'head_linear': 28,\n",
       "  'head_softmax': 29,\n",
       "  'https': 30,\n",
       "  'if': 31,\n",
       "  'import': 32,\n",
       "  'in': 33,\n",
       "  'in_channels': 34,\n",
       "  'info': 35,\n",
       "  'init': 36,\n",
       "  'init_weights': 37,\n",
       "  'inplace': 38,\n",
       "  'input_batch': 39,\n",
       "  'is': 40,\n",
       "  'issues': 41,\n",
       "  'kaiming_normal': 42,\n",
       "  'kernel_size': 43,\n",
       "  'linear': 44,\n",
       "  'linear_output': 45,\n",
       "  'log': 46,\n",
       "  'logconf': 47,\n",
       "  'logging': 48,\n",
       "  'lunablock': 49,\n",
       "  'lunamodel': 50,\n",
       "  'm': 51,\n",
       "  'math': 52,\n",
       "  'maxpool': 53,\n",
       "  'mode': 54,\n",
       "  'module': 55,\n",
       "  'modules': 56,\n",
       "  'name': 57,\n",
       "  'nn': 58,\n",
       "  'none': 59,\n",
       "  'nonlinearity': 60,\n",
       "  'normal': 61,\n",
       "  'not': 62,\n",
       "  'padding': 63,\n",
       "  'pytorch': 64,\n",
       "  'relu': 65,\n",
       "  'return': 66,\n",
       "  'see': 67,\n",
       "  'self': 68,\n",
       "  'setlevel': 69,\n",
       "  'size': 70,\n",
       "  'softmax': 71,\n",
       "  'sqrt': 72,\n",
       "  'super': 73,\n",
       "  'tail_batchnorm': 74,\n",
       "  'torch': 75,\n",
       "  'true': 76,\n",
       "  'type': 77,\n",
       "  'util': 78,\n",
       "  'view': 79,\n",
       "  'warn': 80,\n",
       "  'weight': 81})"
      ]
     },
     "execution_count": 70,
     "metadata": {},
     "output_type": "execute_result"
    }
   ],
   "source": [
    "word_list = sorted(set(clean_words(text)))\n",
    "word2index_dict = {word: i for (i, word) in enumerate(word_list)}\n",
    "\n",
    "len(word2index_dict), word2index_dict"
   ]
  },
  {
   "cell_type": "code",
   "execution_count": 77,
   "id": "227c0b88",
   "metadata": {},
   "outputs": [
    {
     "data": {
      "text/plain": [
       "(258, torch.Size([258, 82]))"
      ]
     },
     "execution_count": 77,
     "metadata": {},
     "output_type": "execute_result"
    }
   ],
   "source": [
    "word_in_text = clean_words(text)\n",
    "text_onehot = torch.zeros(len(word_in_text), len(word_list))\n",
    "for i, word in enumerate(word_in_text):\n",
    "    word_index = word2index_dict[word]\n",
    "    text_onehot[i][word_index] = 1\n",
    "len(word_in_text), text_onehot.shape"
   ]
  },
  {
   "cell_type": "code",
   "execution_count": null,
   "id": "8d7b649e",
   "metadata": {},
   "outputs": [],
   "source": []
  }
 ],
 "metadata": {
  "kernelspec": {
   "display_name": "Python 3 (ipykernel)",
   "language": "python",
   "name": "python3"
  },
  "language_info": {
   "codemirror_mode": {
    "name": "ipython",
    "version": 3
   },
   "file_extension": ".py",
   "mimetype": "text/x-python",
   "name": "python",
   "nbconvert_exporter": "python",
   "pygments_lexer": "ipython3",
   "version": "3.11.3"
  }
 },
 "nbformat": 4,
 "nbformat_minor": 5
}
