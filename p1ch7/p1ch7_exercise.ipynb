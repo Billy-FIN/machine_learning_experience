{
 "cells": [
  {
   "cell_type": "code",
   "execution_count": null,
   "id": "7811139f",
   "metadata": {},
   "outputs": [],
   "source": [
    "#1"
   ]
  },
  {
   "cell_type": "code",
   "execution_count": 13,
   "id": "56040a89",
   "metadata": {},
   "outputs": [
    {
     "data": {
      "text/plain": [
       "<torch._C.Generator at 0x20568715770>"
      ]
     },
     "execution_count": 13,
     "metadata": {},
     "output_type": "execute_result"
    }
   ],
   "source": [
    "%matplotlib inline\n",
    "from matplotlib import pyplot as plt\n",
    "import numpy as np\n",
    "import torch\n",
    "import torch.nn as nn\n",
    "import torch.optim as optim\n",
    "from torchvision import transforms\n",
    "from torchvision import datasets\n",
    "\n",
    "torch.set_printoptions(edgeitems=2, linewidth=75)\n",
    "torch.manual_seed(123)"
   ]
  },
  {
   "cell_type": "code",
   "execution_count": 14,
   "id": "4cd24cea",
   "metadata": {},
   "outputs": [],
   "source": [
    "data_path = '../data-unversioned/p1ch7/'\n",
    "class_names = ['airplane','automobile','bird','cat','deer',\n",
    "               'dog','frog','horse','ship','truck']"
   ]
  },
  {
   "cell_type": "code",
   "execution_count": 28,
   "id": "44aa171b",
   "metadata": {},
   "outputs": [],
   "source": [
    "cifar10 = datasets.CIFAR10(\n",
    "    data_path, train=True, download=False,\n",
    "    transform=transforms.Compose([\n",
    "        transforms.ToTensor(),\n",
    "        transforms.Normalize((0.4915, 0.4823, 0.4468),\n",
    "                             (0.2470, 0.2435, 0.2616)),\n",
    "        transforms.RandomCrop(20)\n",
    "    ]))"
   ]
  },
  {
   "cell_type": "code",
   "execution_count": 31,
   "id": "c699a87e",
   "metadata": {},
   "outputs": [],
   "source": [
    "cifar10_val = datasets.CIFAR10(\n",
    "    data_path, train=False, download=False,\n",
    "    transform=transforms.Compose([\n",
    "        transforms.ToTensor(),\n",
    "        transforms.Normalize((0.4915, 0.4823, 0.4468),\n",
    "                             (0.2470, 0.2435, 0.2616)),\n",
    "        transforms.RandomCrop(20)\n",
    "    ]))"
   ]
  },
  {
   "cell_type": "code",
   "execution_count": 29,
   "id": "d33b8691",
   "metadata": {},
   "outputs": [
    {
     "name": "stderr",
     "output_type": "stream",
     "text": [
      "Clipping input data to the valid range for imshow with RGB data ([0..1] for floats or [0..255] for integers).\n"
     ]
    },
    {
     "data": {
      "image/png": "[encoded data removed]",
      "text/plain": [
       "<Figure size 640x480 with 1 Axes>"
      ]
     },
     "metadata": {},
     "output_type": "display_data"
    }
   ],
   "source": [
    "img, label = cifar10[0]\n",
    "plt.imshow(img.permute(1,2,0))\n",
    "plt.show()"
   ]
  },
  {
   "cell_type": "code",
   "execution_count": 32,
   "id": "f8b6223f",
   "metadata": {},
   "outputs": [],
   "source": [
    "label_map = {0: 0, 2: 1}\n",
    "class_names = ['airplane', 'bird']\n",
    "cifar2 = [(img, label_map[label])\n",
    "          for img, label in cifar10 \n",
    "          if label in [0, 2]]\n",
    "cifar2_val = [(img, label_map[label])\n",
    "              for img, label in cifar10_val\n",
    "              if label in [0, 2]]"
   ]
  },
  {
   "cell_type": "code",
   "execution_count": 37,
   "id": "772c13a4",
   "metadata": {},
   "outputs": [
    {
     "name": "stdout",
     "output_type": "stream",
     "text": [
      "Epoch: 0, Loss_train: 0.336497, Loss_val: 0.496394\n",
      "Epoch: 1, Loss_train: 0.661978, Loss_val: 0.477465\n",
      "Epoch: 2, Loss_train: 0.612689, Loss_val: 0.357146\n",
      "Epoch: 3, Loss_train: 0.427981, Loss_val: 0.322598\n",
      "Epoch: 4, Loss_train: 0.457118, Loss_val: 0.609582\n",
      "Epoch: 5, Loss_train: 0.581130, Loss_val: 0.401691\n",
      "Epoch: 6, Loss_train: 0.251331, Loss_val: 0.582144\n",
      "Epoch: 7, Loss_train: 0.399178, Loss_val: 0.671516\n",
      "Epoch: 8, Loss_train: 0.315693, Loss_val: 0.473415\n",
      "Epoch: 9, Loss_train: 0.427933, Loss_val: 0.692949\n",
      "Epoch: 10, Loss_train: 0.750673, Loss_val: 0.489494\n",
      "Epoch: 11, Loss_train: 0.320343, Loss_val: 0.406288\n",
      "Epoch: 12, Loss_train: 0.191889, Loss_val: 0.369098\n",
      "Epoch: 13, Loss_train: 0.553347, Loss_val: 0.556523\n",
      "Epoch: 14, Loss_train: 0.517884, Loss_val: 0.569440\n",
      "Epoch: 15, Loss_train: 0.304829, Loss_val: 0.723987\n",
      "Epoch: 16, Loss_train: 0.546278, Loss_val: 0.296880\n",
      "Epoch: 17, Loss_train: 0.412203, Loss_val: 0.635300\n",
      "Epoch: 18, Loss_train: 0.609473, Loss_val: 0.419686\n",
      "Epoch: 19, Loss_train: 0.490290, Loss_val: 0.501220\n",
      "Epoch: 20, Loss_train: 0.384764, Loss_val: 0.439324\n",
      "Epoch: 21, Loss_train: 0.520059, Loss_val: 0.359743\n",
      "Epoch: 22, Loss_train: 0.469804, Loss_val: 0.444825\n",
      "Epoch: 23, Loss_train: 0.546952, Loss_val: 0.802174\n",
      "Epoch: 24, Loss_train: 0.233665, Loss_val: 0.367900\n",
      "Epoch: 25, Loss_train: 0.353118, Loss_val: 0.558546\n",
      "Epoch: 26, Loss_train: 0.486187, Loss_val: 0.281629\n",
      "Epoch: 27, Loss_train: 0.269492, Loss_val: 0.389643\n",
      "Epoch: 28, Loss_train: 0.407279, Loss_val: 0.272305\n",
      "Epoch: 29, Loss_train: 0.535468, Loss_val: 0.530452\n",
      "Epoch: 30, Loss_train: 0.200075, Loss_val: 0.550863\n",
      "Epoch: 31, Loss_train: 0.385068, Loss_val: 0.302002\n",
      "Epoch: 32, Loss_train: 0.584711, Loss_val: 0.247710\n",
      "Epoch: 33, Loss_train: 0.452279, Loss_val: 0.243814\n",
      "Epoch: 34, Loss_train: 0.375643, Loss_val: 0.463550\n",
      "Epoch: 35, Loss_train: 0.580303, Loss_val: 0.264561\n",
      "Epoch: 36, Loss_train: 0.586648, Loss_val: 0.159824\n",
      "Epoch: 37, Loss_train: 0.193829, Loss_val: 0.373320\n",
      "Epoch: 38, Loss_train: 0.384237, Loss_val: 0.272212\n",
      "Epoch: 39, Loss_train: 0.475059, Loss_val: 0.356618\n",
      "Epoch: 40, Loss_train: 0.220313, Loss_val: 0.386892\n",
      "Epoch: 41, Loss_train: 0.278151, Loss_val: 0.255550\n",
      "Epoch: 42, Loss_train: 0.270024, Loss_val: 0.499507\n",
      "Epoch: 43, Loss_train: 0.200785, Loss_val: 0.340565\n",
      "Epoch: 44, Loss_train: 0.236671, Loss_val: 0.218404\n",
      "Epoch: 45, Loss_train: 0.570101, Loss_val: 0.330213\n",
      "Epoch: 46, Loss_train: 0.368722, Loss_val: 0.358192\n",
      "Epoch: 47, Loss_train: 0.214801, Loss_val: 0.325533\n",
      "Epoch: 48, Loss_train: 0.269694, Loss_val: 0.311699\n",
      "Epoch: 49, Loss_train: 0.213068, Loss_val: 0.226017\n",
      "Epoch: 50, Loss_train: 0.468008, Loss_val: 0.359391\n",
      "Epoch: 51, Loss_train: 0.536345, Loss_val: 0.237762\n",
      "Epoch: 52, Loss_train: 0.064713, Loss_val: 0.147071\n",
      "Epoch: 53, Loss_train: 0.260172, Loss_val: 0.353641\n",
      "Epoch: 54, Loss_train: 0.157631, Loss_val: 0.278703\n",
      "Epoch: 55, Loss_train: 0.195272, Loss_val: 0.212930\n",
      "Epoch: 56, Loss_train: 0.374021, Loss_val: 0.146575\n",
      "Epoch: 57, Loss_train: 0.280013, Loss_val: 0.240952\n",
      "Epoch: 58, Loss_train: 0.240596, Loss_val: 0.302360\n",
      "Epoch: 59, Loss_train: 0.132313, Loss_val: 0.331584\n",
      "Epoch: 60, Loss_train: 0.081037, Loss_val: 0.152139\n",
      "Epoch: 61, Loss_train: 0.136969, Loss_val: 0.101555\n",
      "Epoch: 62, Loss_train: 0.293361, Loss_val: 0.202120\n",
      "Epoch: 63, Loss_train: 0.202828, Loss_val: 0.116642\n",
      "Epoch: 64, Loss_train: 0.246799, Loss_val: 0.192579\n",
      "Epoch: 65, Loss_train: 0.228631, Loss_val: 0.209867\n",
      "Epoch: 66, Loss_train: 0.058349, Loss_val: 0.217875\n",
      "Epoch: 67, Loss_train: 0.274591, Loss_val: 0.284858\n",
      "Epoch: 68, Loss_train: 0.128872, Loss_val: 0.190039\n",
      "Epoch: 69, Loss_train: 0.315211, Loss_val: 0.162929\n",
      "Epoch: 70, Loss_train: 0.351905, Loss_val: 0.951828\n",
      "Epoch: 71, Loss_train: 0.291307, Loss_val: 0.245559\n",
      "Epoch: 72, Loss_train: 0.075570, Loss_val: 0.133627\n",
      "Epoch: 73, Loss_train: 0.259702, Loss_val: 0.256030\n",
      "Epoch: 74, Loss_train: 0.150863, Loss_val: 0.119377\n",
      "Epoch: 75, Loss_train: 0.180927, Loss_val: 0.186298\n",
      "Epoch: 76, Loss_train: 0.114048, Loss_val: 0.229838\n",
      "Epoch: 77, Loss_train: 0.097573, Loss_val: 0.239810\n",
      "Epoch: 78, Loss_train: 0.053980, Loss_val: 0.220701\n",
      "Epoch: 79, Loss_train: 0.238603, Loss_val: 0.186545\n",
      "Epoch: 80, Loss_train: 0.133586, Loss_val: 0.090657\n",
      "Epoch: 81, Loss_train: 0.196882, Loss_val: 0.110841\n",
      "Epoch: 82, Loss_train: 0.129062, Loss_val: 0.146232\n",
      "Epoch: 83, Loss_train: 0.134862, Loss_val: 0.204390\n",
      "Epoch: 84, Loss_train: 0.165843, Loss_val: 0.034644\n",
      "Epoch: 85, Loss_train: 0.094926, Loss_val: 0.301887\n",
      "Epoch: 86, Loss_train: 0.104188, Loss_val: 0.086602\n",
      "Epoch: 87, Loss_train: 0.167183, Loss_val: 0.153188\n",
      "Epoch: 88, Loss_train: 0.121604, Loss_val: 0.102052\n",
      "Epoch: 89, Loss_train: 0.087515, Loss_val: 0.038959\n",
      "Epoch: 90, Loss_train: 0.093916, Loss_val: 0.105713\n",
      "Epoch: 91, Loss_train: 0.098290, Loss_val: 0.078448\n",
      "Epoch: 92, Loss_train: 0.119291, Loss_val: 0.276259\n",
      "Epoch: 93, Loss_train: 0.035765, Loss_val: 0.072439\n",
      "Epoch: 94, Loss_train: 0.138127, Loss_val: 0.049216\n",
      "Epoch: 95, Loss_train: 0.165000, Loss_val: 0.100500\n",
      "Epoch: 96, Loss_train: 0.141369, Loss_val: 0.026386\n",
      "Epoch: 97, Loss_train: 0.121441, Loss_val: 0.044302\n",
      "Epoch: 98, Loss_train: 0.122222, Loss_val: 0.047602\n",
      "Epoch: 99, Loss_train: 0.092898, Loss_val: 0.125789\n"
     ]
    }
   ],
   "source": [
    "train_loader = torch.utils.data.DataLoader(cifar2, batch_size=64,\n",
    "                                           shuffle=True)\n",
    "val_loader = torch.utils.data.DataLoader(cifar2_val, batch_size=2000,\n",
    "                                           shuffle=True)\n",
    "\n",
    "model = nn.Sequential(\n",
    "            nn.Linear(1200, 128),\n",
    "            nn.Tanh(),\n",
    "            nn.Linear(128, 2))\n",
    "\n",
    "learning_rate = 1e-2\n",
    "\n",
    "optimizer = optim.SGD(model.parameters(), lr=learning_rate)\n",
    "\n",
    "loss_fn = nn.CrossEntropyLoss()\n",
    "\n",
    "n_epochs = 100\n",
    "\n",
    "for epoch in range(n_epochs):\n",
    "    for imgs, labels in train_loader:\n",
    "        outputs = model(imgs.view(imgs.shape[0], -1))\n",
    "        loss = loss_fn(outputs, labels)\n",
    "\n",
    "        optimizer.zero_grad()\n",
    "        loss.backward()\n",
    "        optimizer.step()\n",
    "    \n",
    "    for imgs, labels in train_loader:\n",
    "        outputs = model(imgs.view(imgs.shape[0], -1))\n",
    "        loss_val = loss_fn(outputs, labels)\n",
    "    \n",
    "    print(\"Epoch: %d, Loss_train: %f, Loss_val: %f\" % (epoch, float(loss), loss_val))"
   ]
  },
  {
   "cell_type": "code",
   "execution_count": 38,
   "id": "bcfa408e",
   "metadata": {},
   "outputs": [
    {
     "name": "stdout",
     "output_type": "stream",
     "text": [
      "Accuracy: 0.986700\n"
     ]
    }
   ],
   "source": [
    "train_loader = torch.utils.data.DataLoader(cifar2, batch_size=64,\n",
    "                                           shuffle=False)\n",
    "\n",
    "correct = 0\n",
    "total = 0\n",
    "\n",
    "with torch.no_grad():\n",
    "    for imgs, labels in train_loader:\n",
    "        outputs = model(imgs.view(imgs.shape[0], -1))\n",
    "        _, predicted = torch.max(outputs, dim=1)\n",
    "        total += labels.shape[0]\n",
    "        correct += int((predicted == labels).sum())\n",
    "        \n",
    "print(\"Accuracy: %f\" % (correct / total))"
   ]
  },
  {
   "cell_type": "code",
   "execution_count": 39,
   "id": "e96d74bb",
   "metadata": {},
   "outputs": [
    {
     "name": "stdout",
     "output_type": "stream",
     "text": [
      "Accuracy: 0.776000\n"
     ]
    }
   ],
   "source": [
    "val_loader = torch.utils.data.DataLoader(cifar2_val, batch_size=64,\n",
    "                                         shuffle=False)\n",
    "\n",
    "correct = 0\n",
    "total = 0\n",
    "\n",
    "with torch.no_grad():\n",
    "    for imgs, labels in val_loader:\n",
    "        outputs = model(imgs.view(imgs.shape[0], -1))\n",
    "        _, predicted = torch.max(outputs, dim=1)\n",
    "        total += labels.shape[0]\n",
    "        correct += int((predicted == labels).sum())\n",
    "        \n",
    "print(\"Accuracy: %f\" % (correct / total))"
   ]
  },
  {
   "cell_type": "code",
   "execution_count": null,
   "id": "c8b064b6",
   "metadata": {},
   "outputs": [],
   "source": []
  },
  {
   "cell_type": "code",
   "execution_count": null,
   "id": "5792f47e",
   "metadata": {},
   "outputs": [],
   "source": []
  }
 ],
 "metadata": {
  "kernelspec": {
   "display_name": "Python 3 (ipykernel)",
   "language": "python",
   "name": "python3"
  },
  "language_info": {
   "codemirror_mode": {
    "name": "ipython",
    "version": 3
   },
   "file_extension": ".py",
   "mimetype": "text/x-python",
   "name": "python",
   "nbconvert_exporter": "python",
   "pygments_lexer": "ipython3",
   "version": "3.11.3"
  }
 },
 "nbformat": 4,
 "nbformat_minor": 5
}
